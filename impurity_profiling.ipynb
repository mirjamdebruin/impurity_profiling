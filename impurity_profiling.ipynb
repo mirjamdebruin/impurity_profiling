{
 "cells": [
  {
   "cell_type": "markdown",
   "metadata": {},
   "source": [
    "# Analysis of pre- and post-incubation chromatographic data\n",
    "\n",
    "In this notebook we provide a detailed analysis of the assigned spectra from the GC-FID and LC-Orbitrap-MS.\n",
    "Different statistical methods were used to differentiate between synthesis methods."
   ]
  },
  {
   "cell_type": "code",
   "execution_count": 1,
   "metadata": {},
   "outputs": [],
   "source": [
    "import matplotlib.pyplot as plt\n",
    "import numpy as np\n",
    "import pandas as pd\n",
    "from scipy import stats\n",
    "from sklearn.decomposition import PCA\n",
    "from sklearn.preprocessing import scale\n",
    "import seaborn as sns"
   ]
  },
  {
   "cell_type": "markdown",
   "metadata": {},
   "source": [
    "## Use synthesis method as class variable"
   ]
  },
  {
   "cell_type": "markdown",
   "metadata": {},
   "source": [
    "### Read data\n",
    "In the long format, each compound for each analyis has its own row.\n",
    "In the wide format, each row is an experiment."
   ]
  },
  {
   "cell_type": "code",
   "execution_count": 2,
   "metadata": {},
   "outputs": [],
   "source": [
    "long = pd.read_csv(f'data/Data_Fentanyl_All_Normalized.csv', sep=';', header=0)"
   ]
  },
  {
   "cell_type": "code",
   "execution_count": 3,
   "metadata": {},
   "outputs": [],
   "source": [
    "# selection of analysis method\n",
    "selection_analysis = 'LC-Orbitrap-MS' # or 'GC-FID'\n",
    "\n",
    "# selection of incubation\n",
    "selection_incubation = 'post' # or 'pre'\n",
    "\n",
    "selected_long = long.loc[\n",
    "    (long['Analysis'] == selection_analysis) & (long['Incubation'] == selection_incubation)\n",
    "].copy()\n",
    "\n",
    "#Addition of Experiment column\n",
    "selected_long['Experiment'] = (\n",
    "    selected_long[\"Synthesis\"] + selected_long[\"N\"].astype(str) + '-' + selected_long[\"Incubation\"] + \n",
    "    '-' + selected_long[\"Storage\"]\n",
    ")"
   ]
  },
  {
   "cell_type": "code",
   "execution_count": 4,
   "metadata": {},
   "outputs": [],
   "source": [
    "selected_wide = selected_long.pivot_table(\n",
    "    index=[\"Synthesis\", \"N\", \"Incubation\", \"Storage\"], \n",
    "    columns='Compound'\n",
    ").fillna(0)"
   ]
  },
  {
   "cell_type": "code",
   "execution_count": 5,
   "metadata": {},
   "outputs": [
    {
     "data": {
      "text/html": [
       "<div>\n",
       "<style scoped>\n",
       "    .dataframe tbody tr th:only-of-type {\n",
       "        vertical-align: middle;\n",
       "    }\n",
       "\n",
       "    .dataframe tbody tr th {\n",
       "        vertical-align: top;\n",
       "    }\n",
       "\n",
       "    .dataframe thead th {\n",
       "        text-align: right;\n",
       "    }\n",
       "</style>\n",
       "<table border=\"1\" class=\"dataframe\">\n",
       "  <thead>\n",
       "    <tr style=\"text-align: right;\">\n",
       "      <th></th>\n",
       "      <th>Name</th>\n",
       "    </tr>\n",
       "    <tr>\n",
       "      <th>Compound ID</th>\n",
       "      <th></th>\n",
       "    </tr>\n",
       "  </thead>\n",
       "  <tbody>\n",
       "    <tr>\n",
       "      <th>A</th>\n",
       "      <td>aniline</td>\n",
       "    </tr>\n",
       "    <tr>\n",
       "      <th>AA</th>\n",
       "      <td>MFCD01829346</td>\n",
       "    </tr>\n",
       "    <tr>\n",
       "      <th>AB</th>\n",
       "      <td>MFCD01916771</td>\n",
       "    </tr>\n",
       "    <tr>\n",
       "      <th>B</th>\n",
       "      <td>4-piperidone</td>\n",
       "    </tr>\n",
       "    <tr>\n",
       "      <th>C</th>\n",
       "      <td>gamma-Aminobutyric acid</td>\n",
       "    </tr>\n",
       "    <tr>\n",
       "      <th>D</th>\n",
       "      <td>Muscimol</td>\n",
       "    </tr>\n",
       "    <tr>\n",
       "      <th>E</th>\n",
       "      <td>Tetramethylurea</td>\n",
       "    </tr>\n",
       "    <tr>\n",
       "      <th>F</th>\n",
       "      <td>Tris(hydroxymethyl)aminomethane</td>\n",
       "    </tr>\n",
       "    <tr>\n",
       "      <th>G</th>\n",
       "      <td>N-ethyl benzenamine</td>\n",
       "    </tr>\n",
       "    <tr>\n",
       "      <th>H</th>\n",
       "      <td>phenylethyl alcohol</td>\n",
       "    </tr>\n",
       "    <tr>\n",
       "      <th>I</th>\n",
       "      <td>N-BOC-hydroxylamine</td>\n",
       "    </tr>\n",
       "    <tr>\n",
       "      <th>J</th>\n",
       "      <td>N-phenylacetamide</td>\n",
       "    </tr>\n",
       "    <tr>\n",
       "      <th>K</th>\n",
       "      <td>trimethadione</td>\n",
       "    </tr>\n",
       "    <tr>\n",
       "      <th>L</th>\n",
       "      <td>N-phenylpropanamide</td>\n",
       "    </tr>\n",
       "    <tr>\n",
       "      <th>M</th>\n",
       "      <td>4-butyl OR N-butyl benzamine</td>\n",
       "    </tr>\n",
       "    <tr>\n",
       "      <th>N</th>\n",
       "      <td>phenylethyl acetate</td>\n",
       "    </tr>\n",
       "    <tr>\n",
       "      <th>O</th>\n",
       "      <td>Benzylpiperazine</td>\n",
       "    </tr>\n",
       "    <tr>\n",
       "      <th>P</th>\n",
       "      <td>phenethylpropanamide</td>\n",
       "    </tr>\n",
       "    <tr>\n",
       "      <th>Q</th>\n",
       "      <td>2,6-Diisopropylaniline</td>\n",
       "    </tr>\n",
       "    <tr>\n",
       "      <th>R</th>\n",
       "      <td>1-phenylethylpiperidin-4-ol</td>\n",
       "    </tr>\n",
       "    <tr>\n",
       "      <th>S</th>\n",
       "      <td>5-Methoxydimethyltryptamine</td>\n",
       "    </tr>\n",
       "    <tr>\n",
       "      <th>T</th>\n",
       "      <td>norfentanyl</td>\n",
       "    </tr>\n",
       "    <tr>\n",
       "      <th>U</th>\n",
       "      <td>Oxymetazoline</td>\n",
       "    </tr>\n",
       "    <tr>\n",
       "      <th>V</th>\n",
       "      <td>4-anilino-N-phenethylpiperidine</td>\n",
       "    </tr>\n",
       "    <tr>\n",
       "      <th>W</th>\n",
       "      <td>acetyl fentanyl</td>\n",
       "    </tr>\n",
       "    <tr>\n",
       "      <th>X</th>\n",
       "      <td>Fentanyl</td>\n",
       "    </tr>\n",
       "    <tr>\n",
       "      <th>Y</th>\n",
       "      <td>Hydroxyfentanyl</td>\n",
       "    </tr>\n",
       "    <tr>\n",
       "      <th>Z</th>\n",
       "      <td>methoxyacetylfentanyl</td>\n",
       "    </tr>\n",
       "  </tbody>\n",
       "</table>\n",
       "</div>"
      ],
      "text/plain": [
       "                                        Name\n",
       "Compound ID                                 \n",
       "A                                    aniline\n",
       "AA                              MFCD01829346\n",
       "AB                              MFCD01916771\n",
       "B                               4-piperidone\n",
       "C                    gamma-Aminobutyric acid\n",
       "D                                   Muscimol\n",
       "E                            Tetramethylurea\n",
       "F            Tris(hydroxymethyl)aminomethane\n",
       "G                        N-ethyl benzenamine\n",
       "H                        phenylethyl alcohol\n",
       "I                        N-BOC-hydroxylamine\n",
       "J                          N-phenylacetamide\n",
       "K                              trimethadione\n",
       "L                        N-phenylpropanamide\n",
       "M               4-butyl OR N-butyl benzamine\n",
       "N                        phenylethyl acetate\n",
       "O                           Benzylpiperazine\n",
       "P                       phenethylpropanamide\n",
       "Q                     2,6-Diisopropylaniline\n",
       "R                1-phenylethylpiperidin-4-ol\n",
       "S                5-Methoxydimethyltryptamine\n",
       "T                                norfentanyl\n",
       "U                              Oxymetazoline\n",
       "V            4-anilino-N-phenethylpiperidine\n",
       "W                            acetyl fentanyl\n",
       "X                                   Fentanyl\n",
       "Y                            Hydroxyfentanyl\n",
       "Z                      methoxyacetylfentanyl"
      ]
     },
     "execution_count": 5,
     "metadata": {},
     "output_type": "execute_result"
    }
   ],
   "source": [
    "#Map compound to id.\n",
    "header = pd.read_csv(\"data/Compound Identification New.csv\", sep=';', index_col='Compound ID').sort_index(0)\n",
    "header"
   ]
  },
  {
   "cell_type": "markdown",
   "metadata": {},
   "source": [
    "### Data evaluation"
   ]
  },
  {
   "cell_type": "code",
   "execution_count": 6,
   "metadata": {},
   "outputs": [
    {
     "data": {
      "text/plain": [
       "<matplotlib.legend.Legend at 0x7fd5c4320fa0>"
      ]
     },
     "execution_count": 6,
     "metadata": {},
     "output_type": "execute_result"
    },
    {
     "data": {
      "image/png": "[encoded data removed]",
      "text/plain": [
       "<Figure size 720x576 with 1 Axes>"
      ]
     },
     "metadata": {
      "needs_background": "light"
     },
     "output_type": "display_data"
    }
   ],
   "source": [
    "palette = dict(G=\"#ff0000\", S=\"#2778b3\")\n",
    "\n",
    "#Select impurities for the boxplot\n",
    "select_compounds = ['O', 'R', 'V', 'W', 'Y']\n",
    "\n",
    "plt.figure(figsize=(10,8))\n",
    "plt.xlim(0, max(selected_long['Area']))\n",
    "\n",
    "sns.boxplot(\n",
    "    x='Area', \n",
    "    y='Compound', \n",
    "    hue='Synthesis', \n",
    "    data=selected_long.loc[selected_long['Compound'].isin(select_compounds)],\n",
    "    palette=palette,\n",
    "    whis=np.inf,\n",
    ")\n",
    "plt.ylabel(\"Area\", fontsize = 26)\n",
    "plt.xlabel(\"Compound\", fontsize = 26);\n",
    "plt.xticks(fontsize = 22)\n",
    "plt.yticks(fontsize = 22)\n",
    "plt.legend(fontsize = 22)"
   ]
  },
  {
   "cell_type": "markdown",
   "metadata": {},
   "source": [
    "### Correlation"
   ]
  },
  {
   "cell_type": "code",
   "execution_count": 7,
   "metadata": {},
   "outputs": [
    {
     "data": {
      "text/plain": [
       "<AxesSubplot:xlabel='None-Compound', ylabel='None-Compound'>"
      ]
     },
     "execution_count": 7,
     "metadata": {},
     "output_type": "execute_result"
    },
    {
     "data": {
      "image/png": "[encoded data removed]",
      "text/plain": [
       "<Figure size 720x576 with 2 Axes>"
      ]
     },
     "metadata": {
      "needs_background": "light"
     },
     "output_type": "display_data"
    }
   ],
   "source": [
    "plt.figure(figsize=(10,8))\n",
    "sns.heatmap(selected_wide.corr(), cmap='coolwarm', vmin=-1)"
   ]
  },
  {
   "cell_type": "markdown",
   "metadata": {},
   "source": [
    "### Ordinary aggregating"
   ]
  },
  {
   "cell_type": "markdown",
   "metadata": {},
   "source": [
    "Get the mean and 95% bootstrap confidence interval for the normalized area for the most important impurities using different methods."
   ]
  },
  {
   "cell_type": "code",
   "execution_count": 8,
   "metadata": {},
   "outputs": [
    {
     "data": {
      "text/plain": [
       "<AxesSubplot:xlabel='Synthesis', ylabel='Area'>"
      ]
     },
     "execution_count": 8,
     "metadata": {},
     "output_type": "execute_result"
    },
    {
     "data": {
      "image/png": "[encoded data removed]",
      "text/plain": [
       "<Figure size 432x288 with 1 Axes>"
      ]
     },
     "metadata": {
      "needs_background": "light"
     },
     "output_type": "display_data"
    }
   ],
   "source": [
    "#Select impurities for the barplot\n",
    "select_compounds = ['O', 'R', 'V', 'W', 'Y']\n",
    "\n",
    "sns.barplot(\n",
    "    x='Synthesis', \n",
    "    y='Area', \n",
    "    hue='Compound', \n",
    "    data=selected_long.loc[selected_long['Compound'].isin(select_compounds)], \n",
    "    errwidth=1, capsize=.05\n",
    ")"
   ]
  },
  {
   "cell_type": "markdown",
   "metadata": {},
   "source": [
    "### PCA\n",
    "We check robustness of the obtained PCA by leave-one-out validation. We observe only minor differences in the explained variance when one sample is left out."
   ]
  },
  {
   "cell_type": "code",
   "execution_count": 9,
   "metadata": {},
   "outputs": [
    {
     "data": {
      "image/png": "[encoded data removed]",
      "text/plain": [
       "<Figure size 432x288 with 1 Axes>"
      ]
     },
     "metadata": {
      "needs_background": "light"
     },
     "output_type": "display_data"
    }
   ],
   "source": [
    "pca = PCA()\n",
    "pca.fit(selected_wide)\n",
    "\n",
    "for leaveout in selected_wide.index:\n",
    "    pca.fit(selected_wide.drop(leaveout))\n",
    "    plt.plot(np.cumsum(pca.explained_variance_ratio_), alpha=.7, ls=':', marker='.')\n",
    "    \n",
    "plt.plot(np.cumsum(pca.explained_variance_ratio_), marker='o')\n",
    "plt.xlabel(\"Number of dimensions\", fontsize = 15)\n",
    "plt.ylabel(\"Explained variance\", fontsize = 15)\n",
    "plt.xticks(np.arange(0, 10, step=1),fontsize=15)\n",
    "plt.yticks(fontsize=15)\n",
    "plt.gcf().subplots_adjust(bottom=0.15, left = 0.15)"
   ]
  },
  {
   "cell_type": "markdown",
   "metadata": {},
   "source": [
    "#### Score plot \n",
    "The different synthesis routes are well separated on the first component of the PCA."
   ]
  },
  {
   "cell_type": "code",
   "execution_count": 10,
   "metadata": {},
   "outputs": [
    {
     "data": {
      "image/png": "[encoded data removed]",
      "text/plain": [
       "<Figure size 432x288 with 1 Axes>"
      ]
     },
     "metadata": {
      "needs_background": "light"
     },
     "output_type": "display_data"
    }
   ],
   "source": [
    "pca = PCA()\n",
    "pca.fit(selected_wide)\n",
    "\n",
    "pca_data = pd.DataFrame(pca.transform(selected_wide)[:,0:2], index=selected_wide.index).reset_index().rename(\n",
    "    columns={0: 'PC1', 1: 'PC2'}\n",
    ")\n",
    "\n",
    "sns.scatterplot(x='PC1', y='PC2', data=pca_data, hue='Synthesis', palette=palette, s=50) \n",
    "\n",
    "#If incubation and synthesis combined\n",
    "# sns.scatterplot(0, 1, data=pca_data, hue='Synthesis', style='Incubation', palette=pal, s=50)\n",
    "\n",
    "plt.xlabel(f'PC1 ({round(pca.explained_variance_ratio_[0],2):.0%})', fontsize = 15)\n",
    "plt.ylabel(f'PC2 ({round(pca.explained_variance_ratio_[1],2):.0%})', fontsize = 15);\n",
    "plt.legend(fontsize=15, loc='upper left')\n",
    "plt.xticks(np.arange(-6, 8, step=2), fontsize=15)\n",
    "plt.yticks(np.arange(-4, 10, step=2), fontsize=15)\n",
    "plt.gcf().subplots_adjust(bottom=0.15, left = 0.15)"
   ]
  },
  {
   "cell_type": "markdown",
   "metadata": {},
   "source": [
    "#### PCA loadings\n",
    "The following two plots contain the same information."
   ]
  },
  {
   "cell_type": "code",
   "execution_count": 11,
   "metadata": {},
   "outputs": [
    {
     "data": {
      "image/png": "[encoded data removed]",
      "text/plain": [
       "<Figure size 432x288 with 1 Axes>"
      ]
     },
     "metadata": {
      "needs_background": "light"
     },
     "output_type": "display_data"
    }
   ],
   "source": [
    "loadings = pd.DataFrame(pca.components_, columns=selected_wide['Area'].columns).T[[0, 1]]\n",
    "\n",
    "plt.scatter(loadings[0], loadings[1])\n",
    "plt.xlabel(f'PC1 ({pca.explained_variance_ratio_[0]:.0%})', fontsize = 15)\n",
    "plt.ylabel(f'PC2 ({pca.explained_variance_ratio_[1]:.0%})', fontsize = 15)\n",
    "for label, x, y in loadings.itertuples():\n",
    "    if x>-0.3 or y>-0.3:\n",
    "       plt.annotate(label, (x, y), xytext=(5, -3), textcoords=('offset pixels', 'offset pixels'), fontsize=15)\n",
    "\n",
    "\n",
    "plt.xticks(fontsize=15)\n",
    "plt.yticks(fontsize=15)\n",
    "plt.gcf().subplots_adjust(left=0.15, bottom=0.15)"
   ]
  },
  {
   "cell_type": "code",
   "execution_count": 12,
   "metadata": {},
   "outputs": [
    {
     "data": {
      "text/plain": [
       "<AxesSubplot:xlabel='Compound'>"
      ]
     },
     "execution_count": 12,
     "metadata": {},
     "output_type": "execute_result"
    },
    {
     "data": {
      "image/png": "[encoded data removed]",
      "text/plain": [
       "<Figure size 432x288 with 2 Axes>"
      ]
     },
     "metadata": {
      "needs_background": "light"
     },
     "output_type": "display_data"
    }
   ],
   "source": [
    "sns.heatmap(\n",
    "    loadings.T, vmin=-1, vmax=1, cmap='RdBu', \n",
    "    yticklabels=[\n",
    "        f\"PC1 ({pca.explained_variance_ratio_[0]:.0%})\",\n",
    "        f\"PC2 ({pca.explained_variance_ratio_[1]:.0%})\"\n",
    "    ]\n",
    ")"
   ]
  },
  {
   "cell_type": "markdown",
   "metadata": {},
   "source": [
    "### Linear Discriminant Analysis"
   ]
  },
  {
   "cell_type": "code",
   "execution_count": 13,
   "metadata": {},
   "outputs": [
    {
     "data": {
      "text/html": [
       "<div>\n",
       "<style scoped>\n",
       "    .dataframe tbody tr th:only-of-type {\n",
       "        vertical-align: middle;\n",
       "    }\n",
       "\n",
       "    .dataframe tbody tr th {\n",
       "        vertical-align: top;\n",
       "    }\n",
       "\n",
       "    .dataframe thead th {\n",
       "        text-align: right;\n",
       "    }\n",
       "</style>\n",
       "<table border=\"1\" class=\"dataframe\">\n",
       "  <thead>\n",
       "    <tr style=\"text-align: right;\">\n",
       "      <th></th>\n",
       "      <th></th>\n",
       "      <th></th>\n",
       "      <th></th>\n",
       "      <th>0</th>\n",
       "    </tr>\n",
       "    <tr>\n",
       "      <th>Synthesis</th>\n",
       "      <th>N</th>\n",
       "      <th>Incubation</th>\n",
       "      <th>Storage</th>\n",
       "      <th></th>\n",
       "    </tr>\n",
       "  </thead>\n",
       "  <tbody>\n",
       "    <tr>\n",
       "      <th rowspan=\"5\" valign=\"top\">G</th>\n",
       "      <th rowspan=\"2\" valign=\"top\">1.0</th>\n",
       "      <th rowspan=\"2\" valign=\"top\">post</th>\n",
       "      <th>RT</th>\n",
       "      <td>-2.219574</td>\n",
       "    </tr>\n",
       "    <tr>\n",
       "      <th>freezer</th>\n",
       "      <td>-0.560550</td>\n",
       "    </tr>\n",
       "    <tr>\n",
       "      <th>2.0</th>\n",
       "      <th>post</th>\n",
       "      <th>freezer</th>\n",
       "      <td>-2.155742</td>\n",
       "    </tr>\n",
       "    <tr>\n",
       "      <th rowspan=\"2\" valign=\"top\">3.0</th>\n",
       "      <th rowspan=\"2\" valign=\"top\">post</th>\n",
       "      <th>RT</th>\n",
       "      <td>-2.731575</td>\n",
       "    </tr>\n",
       "    <tr>\n",
       "      <th>freezer</th>\n",
       "      <td>-3.586902</td>\n",
       "    </tr>\n",
       "    <tr>\n",
       "      <th rowspan=\"5\" valign=\"top\">S</th>\n",
       "      <th>1.0</th>\n",
       "      <th>post</th>\n",
       "      <th>freezer</th>\n",
       "      <td>0.991054</td>\n",
       "    </tr>\n",
       "    <tr>\n",
       "      <th rowspan=\"2\" valign=\"top\">2.0</th>\n",
       "      <th rowspan=\"2\" valign=\"top\">post</th>\n",
       "      <th>RT</th>\n",
       "      <td>1.944685</td>\n",
       "    </tr>\n",
       "    <tr>\n",
       "      <th>freezer</th>\n",
       "      <td>3.175480</td>\n",
       "    </tr>\n",
       "    <tr>\n",
       "      <th rowspan=\"2\" valign=\"top\">3.0</th>\n",
       "      <th rowspan=\"2\" valign=\"top\">post</th>\n",
       "      <th>RT</th>\n",
       "      <td>3.004720</td>\n",
       "    </tr>\n",
       "    <tr>\n",
       "      <th>freezer</th>\n",
       "      <td>2.138403</td>\n",
       "    </tr>\n",
       "  </tbody>\n",
       "</table>\n",
       "</div>"
      ],
      "text/plain": [
       "                                         0\n",
       "Synthesis N   Incubation Storage          \n",
       "G         1.0 post       RT      -2.219574\n",
       "                         freezer -0.560550\n",
       "          2.0 post       freezer -2.155742\n",
       "          3.0 post       RT      -2.731575\n",
       "                         freezer -3.586902\n",
       "S         1.0 post       freezer  0.991054\n",
       "          2.0 post       RT       1.944685\n",
       "                         freezer  3.175480\n",
       "          3.0 post       RT       3.004720\n",
       "                         freezer  2.138403"
      ]
     },
     "execution_count": 13,
     "metadata": {},
     "output_type": "execute_result"
    }
   ],
   "source": [
    "from sklearn.discriminant_analysis import LinearDiscriminantAnalysis\n",
    "clf = LinearDiscriminantAnalysis()\n",
    "clf.fit(X=selected_wide, y=selected_wide.index.get_level_values('Synthesis'))\n",
    "\n",
    "lda = pd.DataFrame(clf.transform(selected_wide)[:,0], index=selected_wide.index)\n",
    "lda"
   ]
  },
  {
   "cell_type": "code",
   "execution_count": 14,
   "metadata": {},
   "outputs": [
    {
     "data": {
      "text/plain": [
       "([], [])"
      ]
     },
     "execution_count": 14,
     "metadata": {},
     "output_type": "execute_result"
    },
    {
     "data": {
      "image/png": "[encoded data removed]",
      "text/plain": [
       "<Figure size 432x288 with 1 Axes>"
      ]
     },
     "metadata": {
      "needs_background": "light"
     },
     "output_type": "display_data"
    }
   ],
   "source": [
    "sns.scatterplot(x=lda[0], y=np.ones(len(lda)), hue=selected_wide.index.get_level_values('Synthesis'), palette=palette)\n",
    "plt.xlabel('LDA value')\n",
    "plt.yticks(ticks=[])"
   ]
  },
  {
   "cell_type": "markdown",
   "metadata": {},
   "source": [
    "#### Likelihood\n",
    "The likelihoods are determined from the ratio of the kernel density estimation at a given LDA value."
   ]
  },
  {
   "cell_type": "code",
   "execution_count": 15,
   "metadata": {
    "scrolled": true
   },
   "outputs": [
    {
     "data": {
      "image/png": "[encoded data removed]",
      "text/plain": [
       "<Figure size 432x288 with 1 Axes>"
      ]
     },
     "metadata": {
      "needs_background": "light"
     },
     "output_type": "display_data"
    }
   ],
   "source": [
    "g = lda[0][np.array(selected_wide.index.get_level_values('Synthesis')) == 'G']\n",
    "s = lda[0][np.array(selected_wide.index.get_level_values('Synthesis')) == 'S']\n",
    "\n",
    "sns.kdeplot(g, shade=True, bw_adjust=1, label=r'$p(E|H_1)$', color=palette['G'])\n",
    "sns.kdeplot(s, shade=True, bw_adjust=1, label=r'$p(E|H_2)$', color=palette['S'])\n",
    "plt.xlabel('LDA value', fontsize = 15)\n",
    "plt.ylabel('Density', fontsize = 15)\n",
    "plt.yticks(fontsize = 15)\n",
    "plt.xticks(fontsize = 15)\n",
    "plt.legend(fontsize=15)\n",
    "plt.gcf().subplots_adjust(left=0.15, bottom=0.15)"
   ]
  },
  {
   "cell_type": "markdown",
   "metadata": {},
   "source": [
    "#### Likelihood function\n",
    "The following likelihood function calculates a given LDA-score (as calculated by `LinearDiscriminantAnalysis.fit()`) to the following function:\n",
    "$LR=\\frac{p\\left(E|H_1\\right)}{p\\left(E|H_2\\right)}$\n",
    "- $H_1$: The victim has consumed fentanyl produced with the Gupta method.\n",
    "- $H_2$: The victim has consumed fentanyl produced with the Siegrief method.\n",
    "\n"
   ]
  },
  {
   "cell_type": "code",
   "execution_count": 16,
   "metadata": {},
   "outputs": [],
   "source": [
    "def likelihood(lda_score, kde1=stats.gaussian_kde(g), kde2=stats.gaussian_kde(s)): return kde1(lda_score) / kde2(lda_score) "
   ]
  },
  {
   "cell_type": "code",
   "execution_count": 17,
   "metadata": {},
   "outputs": [
    {
     "data": {
      "text/plain": [
       "array([2.11577486])"
      ]
     },
     "execution_count": 17,
     "metadata": {},
     "output_type": "execute_result"
    }
   ],
   "source": [
    "likelihood(0)"
   ]
  },
  {
   "cell_type": "code",
   "execution_count": null,
   "metadata": {},
   "outputs": [],
   "source": []
  }
 ],
 "metadata": {
  "file_extension": ".py",
  "kernelspec": {
   "display_name": "Python 3",
   "language": "python",
   "name": "python3"
  },
  "language_info": {
   "codemirror_mode": {
    "name": "ipython",
    "version": 3
   },
   "file_extension": ".py",
   "mimetype": "text/x-python",
   "name": "python",
   "nbconvert_exporter": "python",
   "pygments_lexer": "ipython3",
   "version": "3.8.5"
  },
  "mimetype": "text/x-python",
  "name": "python",
  "npconvert_exporter": "python",
  "pygments_lexer": "ipython3",
  "toc": {
   "base_numbering": 1,
   "nav_menu": {},
   "number_sections": true,
   "sideBar": true,
   "skip_h1_title": false,
   "title_cell": "Table of Contents",
   "title_sidebar": "Contents",
   "toc_cell": false,
   "toc_position": {
    "height": "calc(100% - 180px)",
    "left": "10px",
    "top": "150px",
    "width": "266px"
   },
   "toc_section_display": true,
   "toc_window_display": true
  },
  "varInspector": {
   "cols": {
    "lenName": 16,
    "lenType": 16,
    "lenVar": 40
   },
   "kernels_config": {
    "python": {
     "delete_cmd_postfix": "",
     "delete_cmd_prefix": "del ",
     "library": "var_list.py",
     "varRefreshCmd": "print(var_dic_list())"
    },
    "r": {
     "delete_cmd_postfix": ") ",
     "delete_cmd_prefix": "rm(",
     "library": "var_list.r",
     "varRefreshCmd": "cat(var_dic_list()) "
    }
   },
   "position": {
    "height": "251px",
    "left": "1598px",
    "right": "20px",
    "top": "120px",
    "width": "302px"
   },
   "types_to_exclude": [
    "module",
    "function",
    "builtin_function_or_method",
    "instance",
    "_Feature"
   ],
   "window_display": false
  },
  "version": 3
 },
 "nbformat": 4,
 "nbformat_minor": 2
}
