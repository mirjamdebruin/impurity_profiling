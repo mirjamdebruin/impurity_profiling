{
 "cells": [
  {
   "cell_type": "markdown",
   "metadata": {},
   "source": [
    "# Analysis of pre- and post-incubation chromatographic data\n",
    "\n",
    "In this notebook a detailed analysis is provided of the assigned spectra from the GC-FID and LC-Orbitrap-MS.\n",
    "Different statistical methods were used to differentiate between synthesis methods."
   ]
  },
  {
   "cell_type": "code",
   "execution_count": 2,
   "metadata": {},
   "outputs": [],
   "source": [
    "import copy, os\n",
    "\n",
    "import matplotlib.pyplot as plt\n",
    "import numpy as np\n",
    "import pandas as pd\n",
    "from scipy.stats import gaussian_kde\n",
    "from sklearn.decomposition import PCA\n",
    "from sklearn.preprocessing import scale\n",
    "import seaborn as sns"
   ]
  },
  {
   "cell_type": "markdown",
   "metadata": {},
   "source": [
    "## Use synthesis method as class variable"
   ]
  },
  {
   "cell_type": "markdown",
   "metadata": {},
   "source": [
    "### Read data"
   ]
  },
  {
   "cell_type": "markdown",
   "metadata": {},
   "source": [
    "In the long format, each compound for each analyis has its own row. In the wide format, each row is an experiment."
   ]
  },
  {
   "cell_type": "code",
   "execution_count": 7,
   "metadata": {},
   "outputs": [],
   "source": [
    "#All data in long list format\n",
    "long = pd.read_csv(f'./data.csv', sep=';', header=0)"
   ]
  },
  {
   "cell_type": "code",
   "execution_count": 8,
   "metadata": {},
   "outputs": [],
   "source": [
    "#Selection of Analysis method (e.g. GC-FID or LC-Orbitrap-MS)\n",
    "selection = 'LC-Orbitrap-MS' \n",
    "selected_long = long.loc[long['Analysis'] == selection, :].copy()\n",
    "\n",
    "#Selection of Incubation (e.g. pre or post)\n",
    "selection = 'pre' \n",
    "selected_long = selected_long.loc[long['Incubation'] == selection, :].copy()\n",
    "\n",
    "#Addition of Experiment column\n",
    "selected_long['Experiment'] = (\n",
    "    selected_long[\"Synthesis\"] + selected_long[\"N\"].astype(str) + '-' + \n",
    "    selected_long[\"Incubation\"] + '-' + selected_long[\"Storage\"]\n",
    ")"
   ]
  },
  {
   "cell_type": "code",
   "execution_count": 10,
   "metadata": {},
   "outputs": [],
   "source": [
    "#All data in wide list format\n",
    "selected_wide = selected_long.pivot_table(\n",
    "    index=[\"Synthesis\", \"N\", \"Incubation\", \"Storage\"], \n",
    "    columns='Compound'\n",
    ")\n",
    "selected_wide.fillna(0, inplace=True)"
   ]
  },
  {
   "cell_type": "code",
   "execution_count": 13,
   "metadata": {},
   "outputs": [
    {
     "data": {
      "text/html": [
       "<div>\n",
       "<style scoped>\n",
       "    .dataframe tbody tr th:only-of-type {\n",
       "        vertical-align: middle;\n",
       "    }\n",
       "\n",
       "    .dataframe tbody tr th {\n",
       "        vertical-align: top;\n",
       "    }\n",
       "\n",
       "    .dataframe thead th {\n",
       "        text-align: right;\n",
       "    }\n",
       "</style>\n",
       "<table border=\"1\" class=\"dataframe\">\n",
       "  <thead>\n",
       "    <tr style=\"text-align: right;\">\n",
       "      <th></th>\n",
       "      <th>Name</th>\n",
       "    </tr>\n",
       "    <tr>\n",
       "      <th>Compound ID</th>\n",
       "      <th></th>\n",
       "    </tr>\n",
       "  </thead>\n",
       "  <tbody>\n",
       "    <tr>\n",
       "      <th>A</th>\n",
       "      <td>aniline</td>\n",
       "    </tr>\n",
       "    <tr>\n",
       "      <th>AA</th>\n",
       "      <td>MFCD01829346</td>\n",
       "    </tr>\n",
       "    <tr>\n",
       "      <th>AB</th>\n",
       "      <td>MFCD01916771</td>\n",
       "    </tr>\n",
       "    <tr>\n",
       "      <th>B</th>\n",
       "      <td>4-piperidone</td>\n",
       "    </tr>\n",
       "    <tr>\n",
       "      <th>C</th>\n",
       "      <td>gamma-Aminobutyric acid</td>\n",
       "    </tr>\n",
       "    <tr>\n",
       "      <th>D</th>\n",
       "      <td>Muscimol</td>\n",
       "    </tr>\n",
       "    <tr>\n",
       "      <th>E</th>\n",
       "      <td>Tetramethylurea</td>\n",
       "    </tr>\n",
       "    <tr>\n",
       "      <th>F</th>\n",
       "      <td>Tris(hydroxymethyl)aminomethane</td>\n",
       "    </tr>\n",
       "    <tr>\n",
       "      <th>G</th>\n",
       "      <td>N-ethyl benzenamine</td>\n",
       "    </tr>\n",
       "    <tr>\n",
       "      <th>H</th>\n",
       "      <td>phenylethyl alcohol</td>\n",
       "    </tr>\n",
       "    <tr>\n",
       "      <th>I</th>\n",
       "      <td>N-BOC-hydroxylamine</td>\n",
       "    </tr>\n",
       "    <tr>\n",
       "      <th>J</th>\n",
       "      <td>N-phenylacetamide</td>\n",
       "    </tr>\n",
       "    <tr>\n",
       "      <th>K</th>\n",
       "      <td>trimethadione</td>\n",
       "    </tr>\n",
       "    <tr>\n",
       "      <th>L</th>\n",
       "      <td>N-phenylpropanamide</td>\n",
       "    </tr>\n",
       "    <tr>\n",
       "      <th>M</th>\n",
       "      <td>4-butyl OR N-butyl benzamine</td>\n",
       "    </tr>\n",
       "    <tr>\n",
       "      <th>N</th>\n",
       "      <td>phenylethyl acetate</td>\n",
       "    </tr>\n",
       "    <tr>\n",
       "      <th>O</th>\n",
       "      <td>Benzylpiperazine</td>\n",
       "    </tr>\n",
       "    <tr>\n",
       "      <th>P</th>\n",
       "      <td>phenethylpropanamide</td>\n",
       "    </tr>\n",
       "    <tr>\n",
       "      <th>Q</th>\n",
       "      <td>2,6-Diisopropylaniline</td>\n",
       "    </tr>\n",
       "    <tr>\n",
       "      <th>R</th>\n",
       "      <td>1-phenylethylpiperidin-4-ol</td>\n",
       "    </tr>\n",
       "    <tr>\n",
       "      <th>S</th>\n",
       "      <td>5-Methoxydimethyltryptamine</td>\n",
       "    </tr>\n",
       "    <tr>\n",
       "      <th>T</th>\n",
       "      <td>norfentanyl</td>\n",
       "    </tr>\n",
       "    <tr>\n",
       "      <th>U</th>\n",
       "      <td>Oxymetazoline</td>\n",
       "    </tr>\n",
       "    <tr>\n",
       "      <th>V</th>\n",
       "      <td>4-anilino-N-phenethylpiperidine</td>\n",
       "    </tr>\n",
       "    <tr>\n",
       "      <th>W</th>\n",
       "      <td>acetyl fentanyl</td>\n",
       "    </tr>\n",
       "    <tr>\n",
       "      <th>X</th>\n",
       "      <td>Fentanyl</td>\n",
       "    </tr>\n",
       "    <tr>\n",
       "      <th>Y</th>\n",
       "      <td>Hydroxyfentanyl</td>\n",
       "    </tr>\n",
       "    <tr>\n",
       "      <th>Z</th>\n",
       "      <td>methoxyacetylfentanyl</td>\n",
       "    </tr>\n",
       "  </tbody>\n",
       "</table>\n",
       "</div>"
      ],
      "text/plain": [
       "                                        Name\n",
       "Compound ID                                 \n",
       "A                                    aniline\n",
       "AA                              MFCD01829346\n",
       "AB                              MFCD01916771\n",
       "B                               4-piperidone\n",
       "C                    gamma-Aminobutyric acid\n",
       "D                                   Muscimol\n",
       "E                            Tetramethylurea\n",
       "F            Tris(hydroxymethyl)aminomethane\n",
       "G                        N-ethyl benzenamine\n",
       "H                        phenylethyl alcohol\n",
       "I                        N-BOC-hydroxylamine\n",
       "J                          N-phenylacetamide\n",
       "K                              trimethadione\n",
       "L                        N-phenylpropanamide\n",
       "M               4-butyl OR N-butyl benzamine\n",
       "N                        phenylethyl acetate\n",
       "O                           Benzylpiperazine\n",
       "P                       phenethylpropanamide\n",
       "Q                     2,6-Diisopropylaniline\n",
       "R                1-phenylethylpiperidin-4-ol\n",
       "S                5-Methoxydimethyltryptamine\n",
       "T                                norfentanyl\n",
       "U                              Oxymetazoline\n",
       "V            4-anilino-N-phenethylpiperidine\n",
       "W                            acetyl fentanyl\n",
       "X                                   Fentanyl\n",
       "Y                            Hydroxyfentanyl\n",
       "Z                      methoxyacetylfentanyl"
      ]
     },
     "execution_count": 13,
     "metadata": {},
     "output_type": "execute_result"
    }
   ],
   "source": [
    "#Compound ID assigned to Compound Name\n",
    "header = pd.read_csv(\"header.csv\", sep=';', index_col='Compound ID')\n",
    "header.sort_index(0, inplace=True)\n",
    "header"
   ]
  },
  {
   "cell_type": "markdown",
   "metadata": {},
   "source": [
    "### Correlation"
   ]
  },
  {
   "cell_type": "code",
   "execution_count": 18,
   "metadata": {},
   "outputs": [
    {
     "data": {
      "image/png": "[encoded data removed]",
      "text/plain": [
       "<Figure size 720x576 with 2 Axes>"
      ]
     },
     "metadata": {
      "needs_background": "light"
     },
     "output_type": "display_data"
    }
   ],
   "source": [
    "plt.figure(figsize=(10,8))\n",
    "sns.heatmap(selected_wide.corr(), cmap='coolwarm', vmin=-1)\n",
    "plt.savefig('fig/impurityCorrelationMatrix.pdf')"
   ]
  },
  {
   "cell_type": "markdown",
   "metadata": {},
   "source": [
    "### PCA"
   ]
  },
  {
   "cell_type": "markdown",
   "metadata": {},
   "source": [
    "The robustness was checked of the obtained PCA by leave-one-out validation. Only minor differences were observed in the explained variance when one sample is left out."
   ]
  },
  {
   "cell_type": "code",
   "execution_count": 23,
   "metadata": {},
   "outputs": [
    {
     "data": {
      "image/png": "[encoded data removed]",
      "text/plain": [
       "<Figure size 432x288 with 1 Axes>"
      ]
     },
     "metadata": {
      "needs_background": "light"
     },
     "output_type": "display_data"
    }
   ],
   "source": [
    "pca = PCA()\n",
    "pca.fit(selected_wide)\n",
    "plt.plot(np.cumsum(pca.explained_variance_ratio_), marker='o')\n",
    "\n",
    "markup = dict(fontsize=15)\n",
    "\n",
    "for leaveout in selected_wide.index:\n",
    "    pca.fit(selected_wide.drop(leaveout))\n",
    "    plt.plot(\n",
    "        np.cumsum(pca.explained_variance_ratio_), \n",
    "        alpha=.4, \n",
    "        ls=':',\n",
    "        marker='.'\n",
    "    )\n",
    "    \n",
    "plt.xlabel(\"Number of dimensions\", **markup)\n",
    "plt.ylabel(\"Explained variance\", **markup)\n",
    "plt.xticks(np.arange(0, 10, step=1), **markup)\n",
    "plt.yticks(**markup)\n",
    "plt.gcf().subplots_adjust(bottom=0.15, left = 0.15)\n",
    "plt.savefig('fig/S3.pdf')"
   ]
  },
  {
   "cell_type": "markdown",
   "metadata": {},
   "source": [
    "#### Score plot"
   ]
  },
  {
   "cell_type": "markdown",
   "metadata": {},
   "source": [
    "The different synthesis routes are well separated on the first component of the PCA."
   ]
  },
  {
   "cell_type": "code",
   "execution_count": 49,
   "metadata": {},
   "outputs": [
    {
     "data": {
      "image/png": "[encoded data removed]",
      "text/plain": [
       "<Figure size 432x288 with 1 Axes>"
      ]
     },
     "metadata": {
      "needs_background": "light"
     },
     "output_type": "display_data"
    }
   ],
   "source": [
    "pca = PCA()\n",
    "pca_data = pd.DataFrame(\n",
    "    pca.fit_transform(selected_wide), \n",
    "    index=selected_wide.index\n",
    ")\n",
    "\n",
    "pca_data_g = pca_data.loc[pca_data.index.get_level_values('Synthesis') == 'G']\n",
    "pca_data_s = pca_data.loc[pca_data.index.get_level_values('Synthesis') == 'S']\n",
    "\n",
    "palette = dict(G=\"#ff0000\", S=\"#2778b3\")\n",
    "\n",
    "plt.scatter(pca_data_g[0], pca_data_g[1], c=palette['G'], label='G')\n",
    "plt.scatter(pca_data_s[0], pca_data_s[1], c=palette['S'], label='S')\n",
    "plt.xlabel(f'PC1 ({round(pca.explained_variance_ratio_[0],2):.0%})', **markup)\n",
    "plt.ylabel(f'PC2 ({round(pca.explained_variance_ratio_[1],2):.0%})', **markup)\n",
    "plt.legend(fontsize=15, loc='upper left')\n",
    "plt.xticks(np.arange(-6, 7, step=2), **markup)\n",
    "plt.yticks(np.arange(-1, 4, step=1), **markup)\n",
    "plt.gcf().subplots_adjust(bottom=0.15, left = 0.15)\n",
    "\n",
    "plt.savefig('fig/5a.pdf') # Save image."
   ]
  },
  {
   "cell_type": "markdown",
   "metadata": {},
   "source": [
    "#### PCA loadings"
   ]
  },
  {
   "cell_type": "code",
   "execution_count": 51,
   "metadata": {},
   "outputs": [
    {
     "data": {
      "image/png": "[encoded data removed]",
      "text/plain": [
       "<Figure size 432x288 with 1 Axes>"
      ]
     },
     "metadata": {
      "needs_background": "light"
     },
     "output_type": "display_data"
    }
   ],
   "source": [
    "loadings = pd.DataFrame(\n",
    "    pca.components_, \n",
    "    columns=selected_wide['Area'].columns\n",
    ")\n",
    "loadings = loadings.T[[0, 1]]\n",
    "\n",
    "plt.scatter(loadings[0], loadings[1])\n",
    "plt.xlabel(f'PC1 ({pca.explained_variance_ratio_[0]:.0%})', **markup)\n",
    "plt.ylabel(f'PC2 ({pca.explained_variance_ratio_[1]:.0%})', **markup)\n",
    "for label, x, y in loadings.itertuples():\n",
    "    if x>-0.3 or y>-0.3:\n",
    "       plt.annotate(\n",
    "           s=label, \n",
    "           xy=(x, y), \n",
    "           xytext=(5, -3), \n",
    "           textcoords=('offset pixels', 'offset pixels'), \n",
    "           **markup\n",
    "       )\n",
    "\n",
    "plt.xticks(**markup)\n",
    "plt.yticks(**markup)\n",
    "plt.gcf().subplots_adjust(left=0.15, bottom=0.15)\n",
    "\n",
    "plt.savefig('fig/5b.pdf')"
   ]
  },
  {
   "cell_type": "code",
   "execution_count": 52,
   "metadata": {},
   "outputs": [
    {
     "data": {
      "image/png": "[encoded data removed]",
      "text/plain": [
       "<Figure size 432x288 with 2 Axes>"
      ]
     },
     "metadata": {
      "needs_background": "light"
     },
     "output_type": "display_data"
    }
   ],
   "source": [
    "sns.heatmap(\n",
    "    loadings.T, \n",
    "    vmin=-1, \n",
    "    vmax=1, \n",
    "    cmap='RdBu', \n",
    "    yticklabels=[\n",
    "        f\"PC1 ({pca.explained_variance_ratio_[0]:.0%})\",\n",
    "        f\"PC2 ({pca.explained_variance_ratio_[1]:.0%})\"\n",
    "    ])\n",
    "plt.savefig('fig/5b-heatmap.pdf')"
   ]
  },
  {
   "cell_type": "markdown",
   "metadata": {},
   "source": [
    "### PCA in combination with LDA"
   ]
  },
  {
   "cell_type": "code",
   "execution_count": 88,
   "metadata": {},
   "outputs": [],
   "source": [
    "from sklearn.discriminant_analysis import LinearDiscriminantAnalysis\n",
    "from sklearn.decomposition import PCA\n",
    "\n",
    "pca = PCA(n_components=2)\n",
    "pca_data = pca.fit_transform(selected_wide)\n",
    "\n",
    "lda = LinearDiscriminantAnalysis().fit_transform(\n",
    "    X=data, \n",
    "    y=selected_wide.index.get_level_values('Synthesis')\n",
    ")\n",
    "lda_df = pd.DataFrame(lda, index=selected_wide.index, columns=['lda'])"
   ]
  },
  {
   "cell_type": "code",
   "execution_count": 89,
   "metadata": {},
   "outputs": [
    {
     "data": {
      "text/html": [
       "<div>\n",
       "<style scoped>\n",
       "    .dataframe tbody tr th:only-of-type {\n",
       "        vertical-align: middle;\n",
       "    }\n",
       "\n",
       "    .dataframe tbody tr th {\n",
       "        vertical-align: top;\n",
       "    }\n",
       "\n",
       "    .dataframe thead th {\n",
       "        text-align: right;\n",
       "    }\n",
       "</style>\n",
       "<table border=\"1\" class=\"dataframe\">\n",
       "  <thead>\n",
       "    <tr style=\"text-align: right;\">\n",
       "      <th></th>\n",
       "      <th></th>\n",
       "      <th></th>\n",
       "      <th></th>\n",
       "      <th>lda</th>\n",
       "    </tr>\n",
       "    <tr>\n",
       "      <th>Synthesis</th>\n",
       "      <th>N</th>\n",
       "      <th>Incubation</th>\n",
       "      <th>Storage</th>\n",
       "      <th></th>\n",
       "    </tr>\n",
       "  </thead>\n",
       "  <tbody>\n",
       "    <tr>\n",
       "      <th rowspan=\"5\" valign=\"top\">G</th>\n",
       "      <th rowspan=\"2\" valign=\"top\">1.0</th>\n",
       "      <th rowspan=\"2\" valign=\"top\">pre</th>\n",
       "      <th>RT</th>\n",
       "      <td>-15.310246</td>\n",
       "    </tr>\n",
       "    <tr>\n",
       "      <th>freezer</th>\n",
       "      <td>-14.184782</td>\n",
       "    </tr>\n",
       "    <tr>\n",
       "      <th>2.0</th>\n",
       "      <th>pre</th>\n",
       "      <th>freezer</th>\n",
       "      <td>-14.279684</td>\n",
       "    </tr>\n",
       "    <tr>\n",
       "      <th rowspan=\"2\" valign=\"top\">3.0</th>\n",
       "      <th rowspan=\"2\" valign=\"top\">pre</th>\n",
       "      <th>RT</th>\n",
       "      <td>-14.476553</td>\n",
       "    </tr>\n",
       "    <tr>\n",
       "      <th>freezer</th>\n",
       "      <td>-14.673189</td>\n",
       "    </tr>\n",
       "    <tr>\n",
       "      <th rowspan=\"5\" valign=\"top\">S</th>\n",
       "      <th>1.0</th>\n",
       "      <th>pre</th>\n",
       "      <th>freezer</th>\n",
       "      <td>12.884711</td>\n",
       "    </tr>\n",
       "    <tr>\n",
       "      <th rowspan=\"2\" valign=\"top\">2.0</th>\n",
       "      <th rowspan=\"2\" valign=\"top\">pre</th>\n",
       "      <th>RT</th>\n",
       "      <td>15.944893</td>\n",
       "    </tr>\n",
       "    <tr>\n",
       "      <th>freezer</th>\n",
       "      <td>15.959175</td>\n",
       "    </tr>\n",
       "    <tr>\n",
       "      <th rowspan=\"2\" valign=\"top\">3.0</th>\n",
       "      <th rowspan=\"2\" valign=\"top\">pre</th>\n",
       "      <th>RT</th>\n",
       "      <td>14.204812</td>\n",
       "    </tr>\n",
       "    <tr>\n",
       "      <th>freezer</th>\n",
       "      <td>13.930862</td>\n",
       "    </tr>\n",
       "  </tbody>\n",
       "</table>\n",
       "</div>"
      ],
      "text/plain": [
       "                                        lda\n",
       "Synthesis N   Incubation Storage           \n",
       "G         1.0 pre        RT      -15.310246\n",
       "                         freezer -14.184782\n",
       "          2.0 pre        freezer -14.279684\n",
       "          3.0 pre        RT      -14.476553\n",
       "                         freezer -14.673189\n",
       "S         1.0 pre        freezer  12.884711\n",
       "          2.0 pre        RT       15.944893\n",
       "                         freezer  15.959175\n",
       "          3.0 pre        RT       14.204812\n",
       "                         freezer  13.930862"
      ]
     },
     "execution_count": 89,
     "metadata": {},
     "output_type": "execute_result"
    }
   ],
   "source": [
    "lda_df"
   ]
  },
  {
   "cell_type": "markdown",
   "metadata": {},
   "source": [
    "#### Kernel density estimations"
   ]
  },
  {
   "cell_type": "code",
   "execution_count": 105,
   "metadata": {},
   "outputs": [
    {
     "data": {
      "image/png": "[encoded data removed]",
      "text/plain": [
       "<Figure size 432x288 with 1 Axes>"
      ]
     },
     "metadata": {
      "needs_background": "light"
     },
     "output_type": "display_data"
    }
   ],
   "source": [
    "def plot_hist(data, n, color, binwidth=.5):\n",
    "    \"\"\"Plot a histogram such that the density is one.\"\"\"\n",
    "    plt.hist(\n",
    "        data, \n",
    "        bins=np.arange(np.floor(data.min()), data.max()+binwidth, binwidth),\n",
    "        weights=np.repeat(1/n, len(data)),\n",
    "        color=color\n",
    "    )\n",
    "\n",
    "lda_df_g = lda_df[lda_df.index.get_level_values('Synthesis') == 'G']\n",
    "lda_df_s = lda_df[lda_df.index.get_level_values('Synthesis') == 'S']\n",
    "\n",
    "plot_hist(lda_df_g.values, n=len(lda_df_g), color='#ff0000')\n",
    "plot_hist(lda_df_s.values, n=len(lda_df_s), color='#2778b3')\n",
    "sns.kdeplot(lda_df_g['lda'], shade=True, bw=1,   label='G', color='#ff0000')\n",
    "sns.kdeplot(lda_df_s['lda'], shade=True, bw=1.2, label='S', color='#2778b3')\n",
    "plt.xlabel('LDA value', **markup)\n",
    "plt.ylabel('Density', **markup)\n",
    "\n",
    "plt.yticks(**markup)\n",
    "plt.xticks(**markup)\n",
    "\n",
    "plt.legend(**markup)\n",
    "plt.gcf().subplots_adjust(left=0.15, bottom=0.15)\n",
    "plt.savefig('fig/6.pdf')"
   ]
  },
  {
   "cell_type": "markdown",
   "metadata": {},
   "source": [
    "#### Likelihood function"
   ]
  },
  {
   "cell_type": "markdown",
   "metadata": {},
   "source": [
    "The likelihoods are determined from the ratio of the kernel density estimation at a given LDA value.\n",
    "\n",
    "The following likelihood function calculates a given LDA-score (as calculated by LinearDiscriminantAnalysis.fit()) to the following function: $LR=\\frac{p\\left(E|H_1\\right)}{p\\left(E|H_2\\right)}$\n",
    "\n",
    "* $H_1$: The victim has been exposed to fentanyl produced with the Gupta method.\n",
    "* $H_2$: The victim has been exposed to fentanyl produced with the Siegrief method."
   ]
  },
  {
   "cell_type": "code",
   "execution_count": 132,
   "metadata": {},
   "outputs": [
    {
     "data": {
      "image/png": "[encoded data removed]",
      "text/plain": [
       "<Figure size 432x288 with 1 Axes>"
      ]
     },
     "metadata": {
      "needs_background": "light"
     },
     "output_type": "display_data"
    }
   ],
   "source": [
    "from scipy import stats\n",
    "def likelihood(lda_score):\n",
    "    \"\"\"Calculate the Likelihood ratio for a given lda_score\"\"\"\n",
    "    kernel_G = stats.gaussian_kde(lda_df_g['lda'])\n",
    "    kernel_S = stats.gaussian_kde(lda_df_s['lda'])\n",
    "    return kernel_G(lda_score)/kernel_S(lda_score)\n",
    "\n",
    "x = np.arange(-20, 20, 0.1)\n",
    "y = likelihood(x)\n",
    "\n",
    "fig, ax = plt.subplots()\n",
    "ax.axhline(1, color='black')\n",
    "ax.plot(x, y, label=r'$H_G / H_S$')\n",
    "\n",
    "ax.set_yscale('log')\n",
    "ax.set_ylim(1e-200, 1e200)\n",
    "\n",
    "ax.set_yticks([1e-200, 1e-100, 1e0, 1e100, 1e200])\n",
    "ax.set_yticklabels(['1:1e200', '1:1e100', '1:1', '1e100', '1e200'])\n",
    "\n",
    "plt.yticks(**markup)\n",
    "plt.xticks(**markup)\n",
    "\n",
    "ax.set_xlabel('LDA value', **markup)\n",
    "ax.set_ylabel('LR', **markup)\n",
    "\n",
    "plt.gcf().subplots_adjust(bottom=0.15, left = 0.2)\n",
    "plt.legend()\n",
    "plt.savefig('fig/lr.pdf')"
   ]
  },
  {
   "cell_type": "markdown",
   "metadata": {},
   "source": [
    "#### Tippett plot"
   ]
  },
  {
   "cell_type": "code",
   "execution_count": 133,
   "metadata": {},
   "outputs": [
    {
     "data": {
      "image/png": "[encoded data removed]",
      "text/plain": [
       "<Figure size 432x288 with 1 Axes>"
      ]
     },
     "metadata": {
      "needs_background": "light"
     },
     "output_type": "display_data"
    }
   ],
   "source": [
    "kde_g = stats.gaussian_kde(lda_df_g['lda'], bw_method=1)\n",
    "kde_s = stats.gaussian_kde(lda_df_s['lda'], bw_method=1.2)\n",
    "\n",
    "def cum_and_norm(x): return np.cumsum(x)/sum(x)\n",
    "def likelihood(lda_score: float): return kde_g(lda_score)/kde_s(lda_score)\n",
    "\n",
    "x_range = np.arange(-20, 3, .1) #LDA\n",
    "x_ = [likelihood(x_) for x_ in x_range]\n",
    "y_g_ = cum_and_norm([kde_g(x_) for x_ in x_range])\n",
    "y_s_ = cum_and_norm([kde_s(x_) for x_ in x_range])\n",
    "\n",
    "plt.axvline(x=1, color='grey',  ls='--')\n",
    "plt.plot(x_, y_g_, label='G', color='#ff0000')\n",
    "plt.plot(x_, y_s_, label='S', color='#2778b3')\n",
    "plt.xlabel('LR greater than', **markup)\n",
    "plt.ylabel('Fraction', **markup)\n",
    "plt.xscale('log')\n",
    "plt.xlim(1e-310, 1e100)\n",
    "plt.xticks([1e-300, 1e-200, 1e-100, 1e0, 1e100])\n",
    "\n",
    "plt.yticks(**markup)\n",
    "plt.xticks(**markup)\n",
    "plt.ylim(0, 1)\n",
    "\n",
    "plt.legend(fontsize=15)\n",
    "plt.gcf().subplots_adjust(left=0.15, bottom=0.15)\n",
    "plt.savefig('fig/9.pdf')"
   ]
  },
  {
   "cell_type": "code",
   "execution_count": null,
   "metadata": {},
   "outputs": [],
   "source": []
  }
 ],
 "metadata": {
  "file_extension": ".py",
  "kernelspec": {
   "display_name": "Python 3",
   "language": "python",
   "name": "python3"
  },
  "language_info": {
   "codemirror_mode": {
    "name": "ipython",
    "version": 3
   },
   "file_extension": ".py",
   "mimetype": "text/x-python",
   "name": "python",
   "nbconvert_exporter": "python",
   "pygments_lexer": "ipython3",
   "version": "3.7.6"
  },
  "mimetype": "text/x-python",
  "name": "python",
  "npconvert_exporter": "python",
  "pygments_lexer": "ipython3",
  "toc": {
   "base_numbering": 1,
   "nav_menu": {},
   "number_sections": true,
   "sideBar": true,
   "skip_h1_title": false,
   "title_cell": "Table of Contents",
   "title_sidebar": "Contents",
   "toc_cell": false,
   "toc_position": {
    "height": "calc(100% - 180px)",
    "left": "10px",
    "top": "150px",
    "width": "265.969px"
   },
   "toc_section_display": true,
   "toc_window_display": true
  },
  "varInspector": {
   "cols": {
    "lenName": 16,
    "lenType": 16,
    "lenVar": 40
   },
   "kernels_config": {
    "python": {
     "delete_cmd_postfix": "",
     "delete_cmd_prefix": "del ",
     "library": "var_list.py",
     "varRefreshCmd": "print(var_dic_list())"
    },
    "r": {
     "delete_cmd_postfix": ") ",
     "delete_cmd_prefix": "rm(",
     "library": "var_list.r",
     "varRefreshCmd": "cat(var_dic_list()) "
    }
   },
   "position": {
    "height": "251px",
    "left": "1598px",
    "right": "20px",
    "top": "120px",
    "width": "302px"
   },
   "types_to_exclude": [
    "module",
    "function",
    "builtin_function_or_method",
    "instance",
    "_Feature"
   ],
   "window_display": false
  },
  "version": 3
 },
 "nbformat": 4,
 "nbformat_minor": 2
}
